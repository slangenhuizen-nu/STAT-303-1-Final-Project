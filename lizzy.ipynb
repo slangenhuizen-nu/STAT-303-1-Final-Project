{
 "cells": [
  {
   "cell_type": "code",
   "execution_count": 31,
   "metadata": {},
   "outputs": [],
   "source": [
    "import pandas as pd\n",
    "import numpy as np\n",
    "import geopandas as gpd\n",
    "# import geodatasets\n",
    "# import folium\n",
    "import matplotlib.pyplot as plt\n",
    "from matplotlib.colors import LinearSegmentedColormap\n",
    "import seaborn as sns\n",
    "\n",
    "# Ignore warnings\n",
    "import warnings\n",
    "warnings.filterwarnings(\"ignore\")"
   ]
  },
  {
   "attachments": {},
   "cell_type": "markdown",
   "metadata": {},
   "source": [
    "# Wrangling"
   ]
  },
  {
   "cell_type": "code",
   "execution_count": 32,
   "metadata": {},
   "outputs": [],
   "source": [
    "dataset = pd.read_csv('mcmf_all_age_categories_and_zip.csv')\n",
    "    #This was already processed by another member of the group\n",
    "\n",
    "#Remove duplicates of program_id\n",
    "dataset.drop_duplicates(subset=['Program ID'], inplace=True) #This removes 109407 programs\n",
    "\n",
    "#Discard programs with a minimum age over 25\n",
    "# dataset = dataset.loc[dataset['Min Age'] <= 25, :] #This doesn't remove anything\n",
    "\n",
    "# original_dataset = pd.read_csv('My_CHI._My_Future._Programs.csv')"
   ]
  },
  {
   "cell_type": "code",
   "execution_count": 33,
   "metadata": {},
   "outputs": [],
   "source": [
    "#For 'Capacity', 108880 of 111682 are non-null and 15021 are zero\n",
    "    #So there are 93859 of 111682 values useful, or 84%. But also 200 of these are one\n",
    "# dataset.loc[dataset['Capacity'] == 1, 'Capacity'].shape"
   ]
  },
  {
   "attachments": {},
   "cell_type": "markdown",
   "metadata": {},
   "source": [
    "# Goal 1:\n",
    "Make a graph of median household income for each zip code"
   ]
  },
  {
   "cell_type": "code",
   "execution_count": 34,
   "metadata": {},
   "outputs": [],
   "source": [
    "incomes = pd.read_csv('median_chicago_incomes.csv')\n",
    "chicago = gpd.read_file('Boundaries - ZIP Codes//geo_export_767f7b62-f72f-4fab-a292-28143a93893d.shp')\n",
    "    #This file is downloaded from data.cityofchicago.org\n",
    "        #https://data.cityofchicago.org/Facilities-Geographic-Boundaries/Boundaries-ZIP-Codes/gdcf-axmw\n",
    "\n",
    "#Merge these two by zip code, but this seems to be tricky so I will take a long-cut using a dictionary\n",
    "incomes_dict = incomes.set_index('zip')['income_household_median'].to_dict()\n",
    "\n",
    "def get_incomes(x):\n",
    "    if int(x) in incomes_dict:\n",
    "        return incomes_dict[int(x)]\n",
    "    else:\n",
    "        return np.nan\n",
    "#This ended up really only catching zip code 60666 as not having income info\n",
    "    #This zip code is O'Hare\n",
    "\n",
    "chicago['income'] = chicago['zip'].apply(get_incomes)"
   ]
  },
  {
   "cell_type": "code",
   "execution_count": 35,
   "metadata": {},
   "outputs": [],
   "source": [
    "chicago = chicago.loc[chicago['zip'] != '60666']"
   ]
  },
  {
   "cell_type": "code",
   "execution_count": 36,
   "metadata": {},
   "outputs": [],
   "source": [
    "chicago['zip'].dtype\n",
    "chicago['income'] = chicago['income'].astype('O')"
   ]
  },
  {
   "cell_type": "code",
   "execution_count": 37,
   "metadata": {},
   "outputs": [],
   "source": [
    "#specify a color palette for the graph\n",
    "colors = ['#56d4b2', '#002223']\n",
    "cmap = LinearSegmentedColormap.from_list(\"custom_cmap\", colors)"
   ]
  },
  {
   "cell_type": "code",
   "execution_count": 38,
   "metadata": {},
   "outputs": [],
   "source": [
    "fig, ax = plt.subplots(figsize=(15, 10))\n",
    "\n",
    "# chicago.plot(column='income', ax=ax, legend=True, legend_kwds={'ncol': 2, 'bbox_to_anchor': (2, 1)})\n",
    "chicago_plot = chicago.loc[~chicago['income'].isna()]\n",
    "chicago_plot['income'] = chicago_plot['income'].astype('int')\n",
    "chicago_plot.plot(column = 'income', ax = ax, legend = True, cmap = cmap) #, legend_kwds={'label': 'Hello'}\n",
    "\n",
    "# Add title (optional)\n",
    "plt.title('Median Household Income')\n",
    "ax.set_axis_off()\n",
    "# ax.legend(title='Set title', loc='lower center', bbox_to_anchor=(0.5, -0.1))\n",
    "# plt.colorbar(label = 'Title')\n",
    "# fig.colorbar(ax=ax, orientation='horizontal', fraction=.1) #images[0], \n",
    "# Show the plot\n",
    "# plt.show()\n",
    "# plt.savefig(fname ='zip_income.svg', format = 'svg')\n",
    "plt.close()"
   ]
  },
  {
   "attachments": {},
   "cell_type": "markdown",
   "metadata": {},
   "source": [
    "# Goal 2:  \n",
    "Make a plot of the proportion of free programs in each zip code"
   ]
  },
  {
   "cell_type": "code",
   "execution_count": 39,
   "metadata": {},
   "outputs": [],
   "source": [
    "#Taking only the rows with ZIP code info and only the relevant columns\n",
    "pricing = dataset.loc[~dataset['ZIP Code'].isna(), \n",
    "            ['Capacity', 'ZIP Code', 'Program Price', \n",
    "             'Scholarship Available', 'Participants Paid', 'Has Free Food']]"
   ]
  },
  {
   "cell_type": "code",
   "execution_count": 40,
   "metadata": {},
   "outputs": [],
   "source": [
    "pricing['Free'] = pricing['Program Price'].apply(\n",
    "    lambda x: x=='Free').astype('int')\n",
    "prop_free = pd.DataFrame(\n",
    "    pricing.loc[pricing['Program Price'] != 'Unknown'].groupby(\n",
    "        by='ZIP Code')['Free'].agg([('Prop. Free', 'mean')])\n",
    ").reset_index()"
   ]
  },
  {
   "cell_type": "code",
   "execution_count": 41,
   "metadata": {},
   "outputs": [],
   "source": [
    "#Merge this into the plotting dataframe, by ZIP code\n",
    "prop_free.rename(columns={'ZIP Code': 'zip'}, inplace=True)\n",
    "prop_free['zip'] = prop_free['zip'].astype('int')\n",
    "free_dict = prop_free.set_index('zip')['Prop. Free'].to_dict()\n",
    "chicago['Prop. Free'] = chicago['zip'].apply(lambda x: free_dict[int(x)])"
   ]
  },
  {
   "cell_type": "code",
   "execution_count": 42,
   "metadata": {},
   "outputs": [],
   "source": [
    "fig, ax = plt.subplots(figsize=(15, 10))\n",
    "\n",
    "# chicago.plot(column='income', ax=ax, legend=True, legend_kwds={'ncol': 2, 'bbox_to_anchor': (2, 1)})\n",
    "chicago_plot = chicago.loc[~chicago['income'].isna()]\n",
    "chicago_plot['income'] = chicago_plot['income'].astype('int')\n",
    "\n",
    "#I want the colors to be inverted here, suggesting that a high prop. should align with lower income\n",
    "cmap_invert = LinearSegmentedColormap.from_list(\"custom_cmap\", colors[::-1])\n",
    "\n",
    "chicago_plot.plot(column = 'Prop. Free', ax = ax, legend = True, cmap = cmap_invert) \n",
    "#, legend_kwds={'label': 'Hello'}\n",
    "\n",
    "plt.title('Prop. Programs that are Free')\n",
    "ax.set_axis_off()\n",
    "# plt.savefig('Prop_free.svg', format = 'svg')\n",
    "plt.close()"
   ]
  },
  {
   "attachments": {},
   "cell_type": "markdown",
   "metadata": {},
   "source": [
    "# Goal 3:  \n",
    "How do median household income and prop. free relate?"
   ]
  },
  {
   "attachments": {},
   "cell_type": "markdown",
   "metadata": {},
   "source": [
    "My idea here is to make a scatterplot of prop free for each\n",
    "OR, (unless there are too many zip codes for this to look good), I could make a proportional bar graph of prop free, >50, <50, and unknown\n",
    "1. Scatter\n",
    "2. Prop bar graph"
   ]
  },
  {
   "cell_type": "code",
   "execution_count": 43,
   "metadata": {},
   "outputs": [],
   "source": [
    "#I want a subset that is zip code, prop free, median household income, num programs (including 'unknown' price)\n",
    "\n",
    "# incomes.head()\n",
    "program_counts = pd.DataFrame(\n",
    "    pricing.groupby(by = 'ZIP Code')['Free'].agg([('Num Programs', 'count')])).reset_index()\n",
    "program_counts.rename(columns={'ZIP Code': 'zip'}, inplace=True)\n",
    "# prop_free\n",
    "scatter_data = pd.merge(pd.merge(incomes, program_counts), prop_free)\n"
   ]
  },
  {
   "cell_type": "code",
   "execution_count": 44,
   "metadata": {},
   "outputs": [],
   "source": [
    "scatter_data = scatter_data.loc[scatter_data['Num Programs'] >= 20, :] \n",
    "    #To note: 60602 only has 41 programs. I want to include this, and am setting the cutoff below this\n",
    "\n",
    "#Would making the prop bar graph require adding prop >50, prop <50, and prop unknown?"
   ]
  },
  {
   "cell_type": "code",
   "execution_count": 45,
   "metadata": {},
   "outputs": [],
   "source": [
    "fit_data = scatter_data.loc[scatter_data['zip'] != 60602]\n",
    "m, b = np.polyfit(fit_data['income_household_median'], fit_data['Prop. Free'], 1)  # Degree 1 for a linear fit\n",
    "# m, b = coefficients  # m is slope, b is intercept\n",
    "\n",
    "# # Generate y values for the line of best fit\n",
    "zip_fit = m * fit_data['income_household_median'] + b\n",
    "# y_fit = m * x + b"
   ]
  },
  {
   "cell_type": "code",
   "execution_count": 46,
   "metadata": {},
   "outputs": [
    {
     "data": {
      "text/html": [
       "<div>\n",
       "<style scoped>\n",
       "    .dataframe tbody tr th:only-of-type {\n",
       "        vertical-align: middle;\n",
       "    }\n",
       "\n",
       "    .dataframe tbody tr th {\n",
       "        vertical-align: top;\n",
       "    }\n",
       "\n",
       "    .dataframe thead th {\n",
       "        text-align: right;\n",
       "    }\n",
       "</style>\n",
       "<table border=\"1\" class=\"dataframe\">\n",
       "  <thead>\n",
       "    <tr style=\"text-align: right;\">\n",
       "      <th></th>\n",
       "      <th>zip</th>\n",
       "      <th>income_household_median</th>\n",
       "      <th>Num Programs</th>\n",
       "      <th>Prop. Free</th>\n",
       "      <th>Residuals</th>\n",
       "    </tr>\n",
       "  </thead>\n",
       "  <tbody>\n",
       "    <tr>\n",
       "      <th>43</th>\n",
       "      <td>60645</td>\n",
       "      <td>63488</td>\n",
       "      <td>35</td>\n",
       "      <td>0.088235</td>\n",
       "      <td>-0.506741</td>\n",
       "    </tr>\n",
       "    <tr>\n",
       "      <th>26</th>\n",
       "      <td>60626</td>\n",
       "      <td>51562</td>\n",
       "      <td>126</td>\n",
       "      <td>0.161290</td>\n",
       "      <td>-0.466416</td>\n",
       "    </tr>\n",
       "    <tr>\n",
       "      <th>18</th>\n",
       "      <td>60618</td>\n",
       "      <td>91650</td>\n",
       "      <td>8972</td>\n",
       "      <td>0.102586</td>\n",
       "      <td>-0.415101</td>\n",
       "    </tr>\n",
       "    <tr>\n",
       "      <th>50</th>\n",
       "      <td>60654</td>\n",
       "      <td>127072</td>\n",
       "      <td>524</td>\n",
       "      <td>0.071429</td>\n",
       "      <td>-0.349045</td>\n",
       "    </tr>\n",
       "    <tr>\n",
       "      <th>49</th>\n",
       "      <td>60653</td>\n",
       "      <td>34564</td>\n",
       "      <td>909</td>\n",
       "      <td>0.404762</td>\n",
       "      <td>-0.269595</td>\n",
       "    </tr>\n",
       "  </tbody>\n",
       "</table>\n",
       "</div>"
      ],
      "text/plain": [
       "      zip  income_household_median  Num Programs  Prop. Free  Residuals\n",
       "43  60645                    63488            35    0.088235  -0.506741\n",
       "26  60626                    51562           126    0.161290  -0.466416\n",
       "18  60618                    91650          8972    0.102586  -0.415101\n",
       "50  60654                   127072           524    0.071429  -0.349045\n",
       "49  60653                    34564           909    0.404762  -0.269595"
      ]
     },
     "execution_count": 46,
     "metadata": {},
     "output_type": "execute_result"
    }
   ],
   "source": [
    "#I want to find the points that are the farthest below this line.\n",
    "#I'll find the vertical distance (residuals)\n",
    "# zip_fit\n",
    "fit_data['Residuals'] = fit_data['Prop. Free'] - zip_fit \n",
    "    #And values that are negative here are below the line of best fit\n",
    "fit_data.sort_values(by = 'Residuals').head()"
   ]
  },
  {
   "attachments": {},
   "cell_type": "markdown",
   "metadata": {},
   "source": [
    "60645, 60626, and 60618 could use the most help here"
   ]
  },
  {
   "cell_type": "code",
   "execution_count": 47,
   "metadata": {},
   "outputs": [],
   "source": [
    "fig, ax = plt.subplots()\n",
    "sns.scatterplot(scatter_data, x = 'income_household_median', y = 'Prop. Free', ax = ax, color = colors[0])\n",
    "ax.plot(fit_data['income_household_median'], zip_fit, color = '#087154',\n",
    "        label = 'r = -0.38') #, color='red', \n",
    "        # label=f'Best Fit Line: y = {m:.2f}x + {b:.2f}')  # Best fit line\n",
    "ax.set_xlabel('Median Household Income (USD)')\n",
    "ax.set_ylabel('Proportion of Free Programs')\n",
    "ax.set_title('Free Programs vs. Income by ZIP Codes')\n",
    "ax.set_ylim(-0.1, 1.1)\n",
    "ax.legend()\n",
    "# fig.savefig('free_by_income.svg', format = 'svg')\n",
    "plt.close()"
   ]
  },
  {
   "cell_type": "code",
   "execution_count": 48,
   "metadata": {},
   "outputs": [
    {
     "name": "stdout",
     "output_type": "stream",
     "text": [
      "-0.37417396895620975\n"
     ]
    }
   ],
   "source": [
    "#Removing the ZIP code with the highest income (60602), is there a correlation?\n",
    "print(scatter_data.loc[scatter_data['zip'] != 60602, :].corr()['income_household_median']['Prop. Free'])"
   ]
  },
  {
   "attachments": {},
   "cell_type": "markdown",
   "metadata": {},
   "source": [
    "# Goal 3b:  \n",
    "Prop bar graph"
   ]
  },
  {
   "cell_type": "code",
   "execution_count": 93,
   "metadata": {},
   "outputs": [],
   "source": [
    "#I want zip code, prop free, prop >50, prop <50, and prop unknown\n",
    "#But is this gonna look good with 55 different zip codes?? \n",
    "    #Maybe if we sort by descending median household income?\n",
    "# scatter_data.shape"
   ]
  },
  {
   "cell_type": "code",
   "execution_count": 133,
   "metadata": {},
   "outputs": [],
   "source": [
    "pricing_dummies = pd.concat(\n",
    "    (pricing.drop(columns = 'Free'), \n",
    "     pd.get_dummies(pricing['Program Price'], dtype = int)\n",
    "     ), axis = 1)\n",
    "\n",
    "#Remove rows for which the ZIP code has less than 10 programs\n",
    "counts_by_zip = pd.DataFrame(\n",
    "    pricing_dummies.groupby(by = 'ZIP Code')['ZIP Code'].agg([('count', 'count')])).reset_index()\n",
    "too_few_zip = counts_by_zip.loc[counts_by_zip['count'] < 20, 'ZIP Code']\n",
    "#I want to remove values in pricing_dummies where the ZIP code is in too_few_zip\n",
    "    #Setting the cutoff to 20 just as before\n",
    "# pricing_dummies['ZIP Code'].apply(lambda x: x in too_few_zip)\n",
    "# pricing_dummies.loc[('ZIP Code' in too_few_zip), :]\n",
    "\n",
    "pricing_dummies = pricing_dummies.loc[~(pricing_dummies['ZIP Code'].isin(too_few_zip)), :]\n",
    "    #This takes it from 104817 to 104787 values, removing 14 zip codes\n",
    "\n",
    "#Stacked bar chart!\n",
    "bar_chart_data = pricing_dummies.groupby(\n",
    "    by = 'ZIP Code')[['$50 or Less', 'Free','More Than $50','Unknown']].agg('mean').reset_index()\n",
    "\n",
    "#I want to sort these by ascending income\n",
    "#To sort by ascending income, I need to add an income column\n",
    "bar_chart_data['Income'] = bar_chart_data['ZIP Code'].apply(lambda x: incomes_dict.get(x, np.nan))\n",
    "bar_chart_data = bar_chart_data.loc[~((bar_chart_data['Income']).isna()), :].sort_values(by = 'Income')\n"
   ]
  },
  {
   "cell_type": "code",
   "execution_count": 134,
   "metadata": {},
   "outputs": [],
   "source": [
    "color_scheme = ['#c2efe3', '#49d0ac', '#1a6551', '#D0D0D0']\n",
    "#Free to unknown\n",
    "# , '#002223'"
   ]
  },
  {
   "cell_type": "code",
   "execution_count": 136,
   "metadata": {},
   "outputs": [
    {
     "data": {
      "image/png": "[encoded data removed]",
      "text/plain": [
       "<Figure size 1000x600 with 1 Axes>"
      ]
     },
     "metadata": {},
     "output_type": "display_data"
    }
   ],
   "source": [
    "# Plot stacked bar chart\n",
    "fig, ax = plt.subplots(figsize=(10, 6))\n",
    "\n",
    "# Plot each attribute\n",
    "# attributes = list(bar_chart_data.columns)\n",
    "# attributes.remove('ZIP Code')\n",
    "# attributes.remove('Income')\n",
    "attributes = ['Free', '$50 or Less', 'More Than $50', 'Unknown']\n",
    "\n",
    "bottom_values = [0] * bar_chart_data.shape[0]\n",
    "#The x-axis is sorted by increasing income by ZIP code\n",
    "\n",
    "for i, attr in enumerate(attributes):\n",
    "    ax.bar(bar_chart_data['ZIP Code'].astype('str'), bar_chart_data[attr], \n",
    "           bottom=bottom_values, label=attr, color = color_scheme[i])\n",
    "    bottom_values += bar_chart_data[attr]\n",
    "\n",
    "# Add labels and legend\n",
    "ax.set_xlabel('Zip Code, by Increasing Income')\n",
    "ax.set_xticks('')\n",
    "ax.set_ylabel('Proportion')\n",
    "# ax.set_title('Proportion Bar Graph by Zip Code')\n",
    "ax.legend()\n",
    "# plt.savefig('stacked_bar.svg', format = 'svg')\n",
    "# plt.show()"
   ]
  },
  {
   "attachments": {},
   "cell_type": "markdown",
   "metadata": {},
   "source": [
    "# Goal 3b.2:\n",
    "Examine the proportion of paid events that are above or below $50 by zip code. Maybe just a correlation, no visualization."
   ]
  },
  {
   "cell_type": "code",
   "execution_count": 150,
   "metadata": {},
   "outputs": [],
   "source": [
    "#pricing_dummies is dummies for the categorical variable of 'Program Price', \n",
    "    #zips less than 10 programs removed\n",
    "\n",
    "#So let's just keep $50 or Less and $50 or More\n",
    "paid_programs = pricing_dummies.loc[\n",
    "    (pricing_dummies['$50 or Less'] == 1) | (pricing_dummies['More Than $50'] == 1)]\n",
    "\n",
    "# paid_programs = paid_programs.groupby(by = 'ZIP Code')['ZIP Code'].agg([('count','count')]).reset_index()\n",
    "        #For counts by ZIP code, the lowest are 4 and 26. I'll just keep all\n"
   ]
  },
  {
   "cell_type": "code",
   "execution_count": 156,
   "metadata": {},
   "outputs": [],
   "source": [
    "below_50 = paid_programs.groupby(by='ZIP Code')['$50 or Less'].agg([('Prop. Below 50', 'mean')]).reset_index() \n",
    "below_50['Income'] = bar_chart_data['ZIP Code'].apply(lambda x: incomes_dict.get(x, np.nan))"
   ]
  },
  {
   "cell_type": "code",
   "execution_count": 158,
   "metadata": {},
   "outputs": [
    {
     "data": {
      "text/html": [
       "<div>\n",
       "<style scoped>\n",
       "    .dataframe tbody tr th:only-of-type {\n",
       "        vertical-align: middle;\n",
       "    }\n",
       "\n",
       "    .dataframe tbody tr th {\n",
       "        vertical-align: top;\n",
       "    }\n",
       "\n",
       "    .dataframe thead th {\n",
       "        text-align: right;\n",
       "    }\n",
       "</style>\n",
       "<table border=\"1\" class=\"dataframe\">\n",
       "  <thead>\n",
       "    <tr style=\"text-align: right;\">\n",
       "      <th></th>\n",
       "      <th>ZIP Code</th>\n",
       "      <th>Prop. Below 50</th>\n",
       "      <th>Income</th>\n",
       "    </tr>\n",
       "  </thead>\n",
       "  <tbody>\n",
       "    <tr>\n",
       "      <th>ZIP Code</th>\n",
       "      <td>1.000000</td>\n",
       "      <td>0.043514</td>\n",
       "      <td>-0.160471</td>\n",
       "    </tr>\n",
       "    <tr>\n",
       "      <th>Prop. Below 50</th>\n",
       "      <td>0.043514</td>\n",
       "      <td>1.000000</td>\n",
       "      <td>-0.317328</td>\n",
       "    </tr>\n",
       "    <tr>\n",
       "      <th>Income</th>\n",
       "      <td>-0.160471</td>\n",
       "      <td>-0.317328</td>\n",
       "      <td>1.000000</td>\n",
       "    </tr>\n",
       "  </tbody>\n",
       "</table>\n",
       "</div>"
      ],
      "text/plain": [
       "                ZIP Code  Prop. Below 50    Income\n",
       "ZIP Code        1.000000        0.043514 -0.160471\n",
       "Prop. Below 50  0.043514        1.000000 -0.317328\n",
       "Income         -0.160471       -0.317328  1.000000"
      ]
     },
     "execution_count": 158,
     "metadata": {},
     "output_type": "execute_result"
    }
   ],
   "source": [
    "below_50.corr()"
   ]
  }
 ],
 "metadata": {
  "kernelspec": {
   "display_name": "pip_env",
   "language": "python",
   "name": "python3"
  },
  "language_info": {
   "codemirror_mode": {
    "name": "ipython",
    "version": 3
   },
   "file_extension": ".py",
   "mimetype": "text/x-python",
   "name": "python",
   "nbconvert_exporter": "python",
   "pygments_lexer": "ipython3",
   "version": "3.10.14"
  },
  "orig_nbformat": 4,
  "vscode": {
   "interpreter": {
    "hash": "6f0b0464c94581304d49e57e2c72a5bf43a549869fc79047bf0862e846e75244"
   }
  }
 },
 "nbformat": 4,
 "nbformat_minor": 2
}

{
 "cells": [
  {
   "cell_type": "code",
   "execution_count": 3,
   "metadata": {},
   "outputs": [
    {
     "name": "stdout",
     "output_type": "stream",
     "text": [
      "<class 'pandas.core.frame.DataFrame'>\n",
      "RangeIndex: 227746 entries, 0 to 227745\n",
      "Data columns (total 40 columns):\n",
      " #   Column                   Non-Null Count   Dtype  \n",
      "---  ------                   --------------   -----  \n",
      " 0   Program ID               227746 non-null  int64  \n",
      " 1   Program Name             227746 non-null  object \n",
      " 2   Description              227746 non-null  object \n",
      " 3   Org Name                 227746 non-null  object \n",
      " 4   Category Name            227745 non-null  object \n",
      " 5   Capacity                 220711 non-null  float64\n",
      " 6   Min Age                  227746 non-null  int64  \n",
      " 7   Max Age                  227746 non-null  int64  \n",
      " 8   Address                  220430 non-null  object \n",
      " 9   City                     221550 non-null  object \n",
      " 10  State                    221550 non-null  object \n",
      " 11  ZIP Code                 220353 non-null  float64\n",
      " 12  Program Type             227746 non-null  object \n",
      " 13  Program URL              223388 non-null  object \n",
      " 14  Online Address           8751 non-null    object \n",
      " 15  Registration URL         217741 non-null  object \n",
      " 16  Registration Open        2186 non-null    object \n",
      " 17  Registration Deadline    61913 non-null   object \n",
      " 18  Start Date               227746 non-null  object \n",
      " 19  End Date                 227746 non-null  object \n",
      " 20  Start Time               203319 non-null  object \n",
      " 21  End Time                 203302 non-null  object \n",
      " 22  Contact Name             213328 non-null  object \n",
      " 23  Contact Email            201418 non-null  object \n",
      " 24  Contact Phone            201020 non-null  object \n",
      " 25  Program Price            227746 non-null  object \n",
      " 26  Geographic Cluster Name  216610 non-null  object \n",
      " 27  Scholarship Available    227746 non-null  bool   \n",
      " 28  Participants Paid        224832 non-null  object \n",
      " 29  Transport Provided       224493 non-null  object \n",
      " 30  Has Free Food            225996 non-null  object \n",
      " 31  Meeting Type             227746 non-null  object \n",
      " 32  Image                    12625 non-null   object \n",
      " 33  Hidden Programs          227746 non-null  bool   \n",
      " 34  Featured                 227746 non-null  bool   \n",
      " 35  Custom Categories        6620 non-null    object \n",
      " 36  Tag                      227746 non-null  object \n",
      " 37  Latitude                 219615 non-null  float64\n",
      " 38  Longitude                219615 non-null  float64\n",
      " 39  Location                 219615 non-null  object \n",
      "dtypes: bool(3), float64(4), int64(3), object(30)\n",
      "memory usage: 64.9+ MB\n"
     ]
    }
   ],
   "source": [
    "import pandas as pd\n",
    "data = pd.read_csv('../My_CHI._My_Future._Programs.csv')\n",
    "data.loc[data['Max Age'] <= 18].shape\n",
    "data.shape\n",
    "data.info()"
   ]
  },
  {
   "cell_type": "markdown",
   "metadata": {},
   "source": [
    "I would be looking at how price might be associated with household income. This would require matching up locations of different programs to their geographical area.\n"
   ]
  },
  {
   "cell_type": "code",
   "execution_count": null,
   "metadata": {},
   "outputs": [],
   "source": [
    "data.loc[~data['Longitude'].isna()].shape #227746 overall programs, 219615 have location, so 0.964 has location\n",
    "data.loc[data['Meeting Type'] == 'online'].shape #9786 are online, 0.0429.\n",
    "\n",
    "#So programs are either online or include information on location I think, but to confirm\n",
    "    #Is there anything with na Latitude and is not online?\n",
    "data.loc[(data['Latitude'].isna()) & (data['Meeting Type'] != 'online')].shape\n",
    "#Yes, there are 923 face-to-face programs without listed locations\n"
   ]
  },
  {
   "cell_type": "markdown",
   "metadata": {},
   "source": [
    "For the US Census (https://data.census.gov/table?g=160XX00US1714000), looking at county subdivisions in Chicago and their average incomes.\n"
   ]
  },
  {
   "cell_type": "code",
   "execution_count": null,
   "metadata": {},
   "outputs": [],
   "source": [
    "# data.info()\n",
    "data.loc[data['Program Price'] != 'Free'].shape #102278 programs are not free, 0.449\n",
    "#I want to look at the distribution of free vs. non-free programs across different locations"
   ]
  },
  {
   "cell_type": "code",
   "execution_count": null,
   "metadata": {},
   "outputs": [],
   "source": []
  }
 ],
 "metadata": {
  "kernelspec": {
   "display_name": "pip_env",
   "language": "python",
   "name": "python3"
  },
  "language_info": {
   "codemirror_mode": {
    "name": "ipython",
    "version": 3
   },
   "file_extension": ".py",
   "mimetype": "text/x-python",
   "name": "python",
   "nbconvert_exporter": "python",
   "pygments_lexer": "ipython3",
   "version": "3.10.14"
  },
  "orig_nbformat": 4,
  "vscode": {
   "interpreter": {
    "hash": "6f0b0464c94581304d49e57e2c72a5bf43a549869fc79047bf0862e846e75244"
   }
  }
 },
 "nbformat": 4,
 "nbformat_minor": 2
}
